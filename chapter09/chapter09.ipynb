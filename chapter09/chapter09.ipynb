{
 "cells": [
  {
   "cell_type": "markdown",
   "metadata": {},
   "source": [
    "# Morphological Image Processing"
   ]
  },
  {
   "cell_type": "markdown",
   "metadata": {},
   "source": [
    "## Preliminaries\n",
    "\n",
    "1. The **reflection** of a set $B$ is defined as:\n",
    "\n",
    "$$ \\hat{B} \\triangleq \\{ -b | b \\in B \\}$$\n",
    "\n",
    "2. The **translation** of a set $B$ by point $z$ is defined as:\n",
    "\n",
    "$$ (B)_z \\triangleq \\{ b + z | b \\in B\\}$$\n",
    "\n",
    "3. A **Structuring Element** is a small set or a subimage used to probe an image under study for properties of interest.\n",
    "  * In addition to its elements, its origin must be specified. Otherwise, reflection and translation on it are\n",
    "  ambiguous.\n",
    "  * When the SE is symmetric and its origin is the symmetric center, the origin can be omitted."
   ]
  },
  {
   "cell_type": "markdown",
   "metadata": {},
   "source": [
    "## Erosion and Dilation\n",
    "\n",
    "### Dilation\n",
    "\n",
    "The **dilation** of $A$ by $B$ is defined as:\n",
    "\n",
    "$$ A \\oplus B \\triangleq \\{ a + b | a \\in A, b \\in B\\} $$\n",
    "\n",
    "That is, the dilation of $A$ by $B$ is just the union of translations of $A$ by every point in $B$, i.e.:\n",
    "\n",
    "$$ A \\oplus B = \\bigcup_{b \\in B}(A)_b $$"
   ]
  },
  {
   "cell_type": "code",
   "execution_count": 1,
   "metadata": {},
   "outputs": [],
   "source": [
    "import numpy as np\n",
    "import matplotlib.pyplot as plt\n",
    "from matplotlib import colors\n",
    "%matplotlib inline"
   ]
  },
  {
   "cell_type": "code",
   "execution_count": 2,
   "metadata": {},
   "outputs": [],
   "source": [
    "import sys\n",
    "\n",
    "sys.path.append('../')"
   ]
  },
  {
   "cell_type": "code",
   "execution_count": 3,
   "metadata": {},
   "outputs": [],
   "source": [
    "from utils import bimshow"
   ]
  },
  {
   "cell_type": "code",
   "execution_count": 28,
   "metadata": {},
   "outputs": [],
   "source": [
    "a = np.zeros((20, 20), dtype=np.uint8)\n",
    "for i in range(20):\n",
    "    for j in range(20):\n",
    "        if (i - 15)**2 + (j - 15)**2 <= 25:\n",
    "            a[i, j] = 1"
   ]
  },
  {
   "cell_type": "code",
   "execution_count": 29,
   "metadata": {},
   "outputs": [
    {
     "data": {
      "image/png": "[encoded data removed]",
      "text/plain": [
       "<Figure size 576x576 with 1 Axes>"
      ]
     },
     "metadata": {
      "needs_background": "light"
     },
     "output_type": "display_data"
    }
   ],
   "source": [
    "bimshow(a, figsize=(8, 8))"
   ]
  },
  {
   "cell_type": "code",
   "execution_count": 62,
   "metadata": {},
   "outputs": [
    {
     "data": {
      "text/plain": [
       "array([[1, 1, 1],\n",
       "       [0, 1, 0],\n",
       "       [0, 0, 0]], dtype=uint8)"
      ]
     },
     "execution_count": 62,
     "metadata": {},
     "output_type": "execute_result"
    }
   ],
   "source": [
    "kernel = np.zeros((3, 3), dtype=np.uint8)\n",
    "kernel[0, :] = 1\n",
    "kernel[1, 1] = 1\n",
    "kernel"
   ]
  },
  {
   "cell_type": "code",
   "execution_count": 63,
   "metadata": {},
   "outputs": [
    {
     "data": {
      "image/png": "[encoded data removed]",
      "text/plain": [
       "<Figure size 432x288 with 1 Axes>"
      ]
     },
     "metadata": {
      "needs_background": "light"
     },
     "output_type": "display_data"
    }
   ],
   "source": [
    "bimshow(kernel)"
   ]
  },
  {
   "cell_type": "code",
   "execution_count": 64,
   "metadata": {},
   "outputs": [
    {
     "name": "stdout",
     "output_type": "stream",
     "text": [
      "(1, 79, 2)\n",
      "(4, 1, 2)\n"
     ]
    }
   ],
   "source": [
    "axt = np.expand_dims(np.transpose(np.nonzero(a)), axis=0)\n",
    "kxt = np.expand_dims(np.transpose(np.nonzero(kernel)) - (1, 1), axis=1)\n",
    "\n",
    "print(axt.shape)\n",
    "print(kxt.shape)"
   ]
  },
  {
   "cell_type": "code",
   "execution_count": 65,
   "metadata": {},
   "outputs": [
    {
     "data": {
      "text/plain": [
       "(309, 2)"
      ]
     },
     "execution_count": 65,
     "metadata": {},
     "output_type": "execute_result"
    }
   ],
   "source": [
    "idx = (axt + kxt).reshape((-1, 2))\n",
    "\n",
    "legal_idx = idx[np.apply_along_axis(legal, 1, idx)]\n",
    "legal_idx.shape"
   ]
  },
  {
   "cell_type": "code",
   "execution_count": 66,
   "metadata": {},
   "outputs": [],
   "source": [
    "target = np.zeros_like(a)"
   ]
  },
  {
   "cell_type": "code",
   "execution_count": 35,
   "metadata": {},
   "outputs": [],
   "source": [
    "def legal(p):\n",
    "    return p[0] < 20 and p[1] < 20"
   ]
  },
  {
   "cell_type": "code",
   "execution_count": 67,
   "metadata": {},
   "outputs": [],
   "source": [
    "target[legal_idx[:, 0], legal_idx[:, 1]] = 1"
   ]
  },
  {
   "cell_type": "code",
   "execution_count": 68,
   "metadata": {},
   "outputs": [
    {
     "data": {
      "image/png": "[encoded data removed]",
      "text/plain": [
       "<Figure size 576x576 with 1 Axes>"
      ]
     },
     "metadata": {
      "needs_background": "light"
     },
     "output_type": "display_data"
    }
   ],
   "source": [
    "bimshow(target, figsize=(8, 8))"
   ]
  },
  {
   "cell_type": "markdown",
   "metadata": {},
   "source": [
    "### Erosion\n",
    "\n",
    "The **erosion** of $A$ by $B$ is defined as:\n",
    "\n",
    "$$ A \\ominus B \\triangleq \\{z | (B)_z \\subseteq A\\}$$"
   ]
  },
  {
   "cell_type": "markdown",
   "metadata": {},
   "source": [
    "## Opening and Closing"
   ]
  },
  {
   "cell_type": "markdown",
   "metadata": {},
   "source": [
    "## Hit-or-Miss Transformation"
   ]
  },
  {
   "cell_type": "markdown",
   "metadata": {},
   "source": [
    "## Some Basic Morphological Algorithms"
   ]
  },
  {
   "cell_type": "markdown",
   "metadata": {},
   "source": [
    "## Gray-scale Morphology"
   ]
  }
 ],
 "metadata": {
  "kernelspec": {
   "display_name": "opencv",
   "language": "python",
   "name": "opencv"
  },
  "language_info": {
   "codemirror_mode": {
    "name": "ipython",
    "version": 3
   },
   "file_extension": ".py",
   "mimetype": "text/x-python",
   "name": "python",
   "nbconvert_exporter": "python",
   "pygments_lexer": "ipython3",
   "version": "3.7.3"
  },
  "toc": {
   "base_numbering": 1,
   "nav_menu": {},
   "number_sections": true,
   "sideBar": true,
   "skip_h1_title": false,
   "title_cell": "Table of Contents",
   "title_sidebar": "Contents",
   "toc_cell": false,
   "toc_position": {},
   "toc_section_display": true,
   "toc_window_display": false
  }
 },
 "nbformat": 4,
 "nbformat_minor": 2
}
