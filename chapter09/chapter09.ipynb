{
 "cells": [
  {
   "cell_type": "code",
   "execution_count": 7,
   "metadata": {},
   "outputs": [],
   "source": [
    "import sys\n",
    "\n",
    "import numpy as np\n",
    "import matplotlib.pyplot as plt\n",
    "from matplotlib import colors\n",
    "from utils import bimshow\n",
    "\n",
    "sys.path.append('../')\n",
    "\n",
    "%matplotlib inline"
   ]
  },
  {
   "cell_type": "markdown",
   "metadata": {},
   "source": [
    "# Morphological Image Processing"
   ]
  },
  {
   "cell_type": "markdown",
   "metadata": {},
   "source": [
    "## Preliminaries\n",
    "\n",
    "1. The **reflection** of a set $B$ is defined as:\n",
    "\n",
    "$$\\begin{equation}\n",
    "\\hat{B} \\triangleq \\{ -b | b \\in B \\}\n",
    "\\end{equation}$$\n",
    "\n",
    "2. The **translation** of a set $B$ by point $z$ is defined as:\n",
    "\n",
    "$$\\begin{equation}\n",
    "(B)_z \\triangleq \\{ b + z | b \\in B\\}\n",
    "\\end{equation}$$\n",
    "\n",
    "3. A **Structuring Element** is a small set or a subimage used to probe an image under study for properties of interest.\n",
    "  * In addition to its elements, its origin must be specified. Otherwise, reflection and translation on it are\n",
    "  ambiguous.\n",
    "  * When the SE is symmetric and its origin is the symmetric center, the origin can be omitted."
   ]
  },
  {
   "cell_type": "markdown",
   "metadata": {},
   "source": [
    "## Erosion and Dilation\n",
    "\n",
    "### Dilation\n",
    "\n",
    "The **dilation** of $A$ by $B$ is defined as:\n",
    "\n",
    "$$\\begin{equation}\n",
    "A \\oplus B \\triangleq \\{ a + b | a \\in A, b \\in B\\}\n",
    "\\end{equation}$$\n",
    "\n",
    "That is, the dilation of $A$ by $B$ is just the union of translations of $A$ by every point in $B$, i.e.:\n",
    "\n",
    "$$\\begin{equation}\n",
    "A \\oplus B = \\bigcup_{b \\in B}(A)_b\n",
    "\\end{equation}$$\n",
    "\n",
    "Or equivalently, the dilation of $A$ by $B$ is just the union of translations of $B$ by every point in $A$, i.e.:\n",
    "\n",
    "$$ A \\oplus B = \\bigcup_{a \\in A} (B)_a $$\n",
    "\n",
    "which can be interpreted as the result that each point in $A$ 'grows' into $B$ (with itself becoming the origin of $B$).\n",
    "\n",
    "Clearly, dilation is:\n",
    "\n",
    "* associative: $(A \\oplus B) \\oplus C = A \\oplus (B \\oplus C)$\n",
    "* symmetric: $A \\oplus B = B \\oplus A$\n",
    "\n",
    "Moreover, if we denote the set containing the origin alone by $\\mathcal{O}$, then we have:\n",
    "\n",
    "* zero-element: $A \\oplus \\mathcal{O} = A$\n",
    "\n",
    "But generally, there is no set $B$ s.t. $A \\oplus B = \\mathcal{O}$ unless $A = \\mathcal{O}$."
   ]
  },
  {
   "cell_type": "code",
   "execution_count": 22,
   "metadata": {},
   "outputs": [
    {
     "data": {
      "image/png": "[encoded data removed]",
      "text/plain": [
       "<Figure size 576x576 with 1 Axes>"
      ]
     },
     "metadata": {
      "needs_background": "light"
     },
     "output_type": "display_data"
    }
   ],
   "source": [
    "square = np.zeros((20, 20), dtype=np.uint8)\n",
    "square[6:14, 6:14] = 1\n",
    "\n",
    "bimshow(square, figsize=(8, 8))\n",
    "plt.show()"
   ]
  },
  {
   "cell_type": "code",
   "execution_count": 27,
   "metadata": {},
   "outputs": [
    {
     "data": {
      "image/png": "[encoded data removed]",
      "text/plain": [
       "<Figure size 72x72 with 1 Axes>"
      ]
     },
     "metadata": {
      "needs_background": "light"
     },
     "output_type": "display_data"
    }
   ],
   "source": [
    "mask = np.ones((3, 3), dtype=np.uint8)\n",
    "mask[0, 0], mask[2, 0], mask[0, 2], mask[2, 2] = 0, 0, 0, 0\n",
    "\n",
    "bimshow(mask, ticklabels='off', figsize=(1, 1))"
   ]
  },
  {
   "cell_type": "code",
   "execution_count": 12,
   "metadata": {},
   "outputs": [],
   "source": [
    "from morphology import bimage2set"
   ]
  },
  {
   "cell_type": "code",
   "execution_count": 28,
   "metadata": {},
   "outputs": [
    {
     "data": {
      "text/plain": [
       "array([[-1,  0],\n",
       "       [ 0, -1],\n",
       "       [ 0,  0],\n",
       "       [ 0,  1],\n",
       "       [ 1,  0]])"
      ]
     },
     "execution_count": 28,
     "metadata": {},
     "output_type": "execute_result"
    }
   ],
   "source": [
    "mask_set = bimage2set(mask, origin=(1, 1))\n",
    "mask_set"
   ]
  },
  {
   "cell_type": "code",
   "execution_count": 29,
   "metadata": {},
   "outputs": [
    {
     "data": {
      "text/plain": [
       "(64, 2)"
      ]
     },
     "execution_count": 29,
     "metadata": {},
     "output_type": "execute_result"
    }
   ],
   "source": [
    "square_set = bimage2set(square)\n",
    "square_set.shape"
   ]
  },
  {
   "cell_type": "code",
   "execution_count": 30,
   "metadata": {},
   "outputs": [
    {
     "data": {
      "text/plain": [
       "(320, 2)"
      ]
     },
     "execution_count": 30,
     "metadata": {},
     "output_type": "execute_result"
    }
   ],
   "source": [
    "square_set_ext = np.expand_dims(square_set, axis=0)  # (1, 64, 2)\n",
    "mask_set_ext = np.expand_dims(mask_set, axis=1)  # (9, 1, 2)\n",
    "\n",
    "dilation = (square_set_ext + mask_set_ext).reshape((-1, 2))\n",
    "dilation.shape"
   ]
  },
  {
   "cell_type": "code",
   "execution_count": 31,
   "metadata": {},
   "outputs": [
    {
     "data": {
      "image/png": "[encoded data removed]",
      "text/plain": [
       "<Figure size 576x576 with 1 Axes>"
      ]
     },
     "metadata": {
      "needs_background": "light"
     },
     "output_type": "display_data"
    }
   ],
   "source": [
    "dilated = np.zeros_like(square, dtype=np.uint8)\n",
    "\n",
    "dilated[dilation[:, 0], dilation[:, 1]] = 1\n",
    "\n",
    "bimshow(dilated, figsize=(8, 8))"
   ]
  },
  {
   "cell_type": "markdown",
   "metadata": {},
   "source": [
    "### Erosion\n",
    "\n",
    "The **erosion** of $A$ by $B$ is defined as:\n",
    "\n",
    "$$\\begin{equation}\n",
    "A \\ominus B \\triangleq \\{z | (B)_z \\subseteq A\\}\n",
    "\\end{equation}$$\n",
    "\n",
    "Similarly, $z$ belongs to $A \\ominus B$ iff for any $b \\in B$, there is a $a \\in A$, s.t. $z = a - b$, that is:\n",
    "\n",
    "$$\\begin{equation}\n",
    "A \\ominus B = \\bigcap_{b \\in B} \\bigcup_{a \\in A} \\{a - b\\} = \\bigcap_{b \\in B} (A)_{-b}\n",
    "\\end{equation}$$"
   ]
  },
  {
   "cell_type": "markdown",
   "metadata": {},
   "source": [
    "### Duality\n",
    "\n",
    "From the duality between cup and cap, it's obvious that:\n",
    "\n",
    "$$\\begin{equation}\n",
    "\\big(A \\oplus B\\big)^c = \\big( \\bigcup_{b \\in B} (A)_b\\big)^c \n",
    "               = \\bigcap_{b \\in B} \\big((A)_b\\big)^c  \n",
    "               = \\bigcap_{b \\in B} (A^c)_b            \n",
    "               = \\bigcap_{b \\in \\hat{B}} (A^c)_{-b}\n",
    "               = A^c \\ominus \\hat{B}\n",
    "\\end{equation}$$\n",
    "\n",
    "Replacing $A^c$ with $A$ and $\\hat{B}$ with $B$, the above equation reads: $(A^c \\oplus \\hat{B})^c = A \\ominus B$, that is:\n",
    "\n",
    "$$\\begin{equation}\n",
    "\\big(A \\ominus B\\big)^c = A^c \\oplus \\hat{B}\n",
    "\\end{equation}$$"
   ]
  },
  {
   "cell_type": "markdown",
   "metadata": {},
   "source": [
    "## Opening and Closing"
   ]
  },
  {
   "cell_type": "markdown",
   "metadata": {},
   "source": [
    "### Opening\n",
    "\n",
    "The **opening** of set $A$ by a structuring element $B$ is defined as:\n",
    "\n",
    "$$\\begin{equation}\n",
    "A \\circ B = \\big(A \\ominus B\\big) \\oplus B\n",
    "\\end{equation}$$\n",
    "\n",
    "Property of opening:\n",
    "\n",
    "* $A \\circ B \\subseteq A$\n",
    "\n",
    "* $A \\subseteq C \\Longrightarrow A \\circ B \\subseteq C \\circ B$\n",
    "\n",
    "* $\\big(A \\circ B\\big) \\circ B = A \\circ B$"
   ]
  },
  {
   "cell_type": "markdown",
   "metadata": {},
   "source": [
    "### Closing\n",
    "\n",
    "The **closing** of set $A$ by a SE $B$ is defined as:\n",
    "\n",
    "$$\\begin{equation}\n",
    "A \\bullet B = \\big(A \\oplus B\\big) \\ominus B\n",
    "\\end{equation}$$\n",
    "\n",
    "Property of closing:\n",
    "\n",
    "* $A \\subseteq A \\bullet B$\n",
    "\n",
    "* $A \\subseteq C \\Longrightarrow A \\bullet B \\subseteq C \\bullet B$\n",
    "\n",
    "* $\\big(A \\bullet B\\big) \\bullet B = A \\bullet B$"
   ]
  },
  {
   "cell_type": "markdown",
   "metadata": {},
   "source": [
    "### Duality\n",
    "\n",
    "As in the case with dialtion and erosion, opening and closing are duals of each other w.r.t. set complementation and \n",
    "reflection. That is,\n",
    "\n",
    "$$\\begin{equation}\n",
    "\\big(A \\circ B\\big)^c = \\big(A \\ominus B\\big)^c \\ominus \\hat{B} = (A^c \\oplus \\hat{B}) \\ominus \\hat{B} = A^c \\bullet \\hat{B}\n",
    "\\end{equation}$$\n",
    "\n",
    "and similarly,\n",
    "\n",
    "$$\\begin{equation}\n",
    "\\big(A \\bullet B\\big)^c = \\big(A \\oplus B\\big)^c \\oplus \\hat{B} = (A^c \\ominus \\hat{B}) \\oplus \\hat{B} = A^c \\circ \\hat{B}\n",
    "\\end{equation}$$"
   ]
  },
  {
   "cell_type": "markdown",
   "metadata": {},
   "source": [
    "## Hit-or-Miss Transformation"
   ]
  },
  {
   "cell_type": "markdown",
   "metadata": {},
   "source": [
    "## Some Basic Morphological Algorithms"
   ]
  },
  {
   "cell_type": "markdown",
   "metadata": {},
   "source": [
    "### Boundary Extraction\n",
    "\n",
    "The boundary of $A$ can be obtained as following:\n",
    "\n",
    "$$\\begin{equation}\n",
    "\\beta(A) = A - \\big(A \\ominus B\\big)\n",
    "\\end{equation}$$\n",
    "\n",
    "where $B$ is a suitable SE."
   ]
  },
  {
   "cell_type": "markdown",
   "metadata": {},
   "source": [
    "### Hole Filling\n",
    "\n",
    "\n",
    "A *hole* may be defined as a background region surrounded by a connnected border of foreground pixels. Holes can be filled via dilation if the correct points to start with are known.\n",
    "\n",
    "Let $X_0$ be the binary image with one point in each hole marked as 1 (the rest are 0s). Then the following procedure\n",
    "fills all the holes with 1s:\n",
    "\n",
    "$$\\begin{equation}\n",
    "X_k = \\big(X_{k - 1} \\oplus B\\big) \\bigcap A^c \\quad k = 1, 2, \\ldots\n",
    "\\end{equation}$$\n",
    "\n",
    "where $B$ is a suitable SE. The algorithm terminates iff $X_k = X_{k - 1}$ for some $k$. Then the union $A\\cup X_k$ is the desired result."
   ]
  },
  {
   "cell_type": "markdown",
   "metadata": {},
   "source": [
    "### Extraction of Connected Components\n",
    "\n",
    "Similar to hole filling, the extraction of connected components can also be done by dilation.\n",
    "\n",
    "Let $X_0$ be the binary image with one point in each connected component marked as 1 (the rest are 0s). Then the \n",
    "following procedure extracts all the connected components:\n",
    "\n",
    "$$\\begin{equation}\n",
    "X_k = \\big( X_{k - 1} \\oplus B \\big) \\bigcap A \\quad k = 1, 2, \\ldots\n",
    "\\end{equation}$$\n",
    "\n",
    "where $B$ is a suitable SE. The algorithm terminates iff $X_k = X_{k - 1}$ for some $k$. Then $X_k$ is the desired result."
   ]
  },
  {
   "cell_type": "markdown",
   "metadata": {},
   "source": [
    "### Convext Hull"
   ]
  },
  {
   "cell_type": "markdown",
   "metadata": {},
   "source": [
    "### Thinning"
   ]
  },
  {
   "cell_type": "markdown",
   "metadata": {},
   "source": [
    "### Thickening"
   ]
  },
  {
   "cell_type": "markdown",
   "metadata": {},
   "source": [
    "### Skeletons"
   ]
  },
  {
   "cell_type": "markdown",
   "metadata": {},
   "source": [
    "### Pruning"
   ]
  },
  {
   "cell_type": "markdown",
   "metadata": {},
   "source": [
    "### Morphological Reconstruction"
   ]
  },
  {
   "cell_type": "markdown",
   "metadata": {},
   "source": [
    "## Gray-scale Morphology"
   ]
  }
 ],
 "metadata": {
  "kernelspec": {
   "display_name": "opencv",
   "language": "python",
   "name": "opencv"
  },
  "language_info": {
   "codemirror_mode": {
    "name": "ipython",
    "version": 3
   },
   "file_extension": ".py",
   "mimetype": "text/x-python",
   "name": "python",
   "nbconvert_exporter": "python",
   "pygments_lexer": "ipython3",
   "version": "3.7.3"
  },
  "toc": {
   "base_numbering": 1,
   "nav_menu": {},
   "number_sections": true,
   "sideBar": true,
   "skip_h1_title": false,
   "title_cell": "Table of Contents",
   "title_sidebar": "Contents",
   "toc_cell": false,
   "toc_position": {},
   "toc_section_display": true,
   "toc_window_display": false
  }
 },
 "nbformat": 4,
 "nbformat_minor": 2
}
